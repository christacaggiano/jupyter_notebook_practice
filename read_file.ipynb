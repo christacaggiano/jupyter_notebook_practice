{
 "cells": [
  {
   "cell_type": "markdown",
   "metadata": {},
   "source": [
    "# Read in a file- version 1"
   ]
  },
  {
   "cell_type": "code",
   "execution_count": 1,
   "metadata": {},
   "outputs": [],
   "source": [
    "file_name = \"Iris.csv\""
   ]
  },
  {
   "cell_type": "code",
   "execution_count": 2,
   "metadata": {},
   "outputs": [],
   "source": [
    "file_lines = []\n",
    "\n",
    "with open(file_name, \"r\") as input_file: # read in this file name\n",
    "    for line in input_file: # loop over file \n",
    "        file_lines.append(line)  # appends each line of the file to a list "
   ]
  },
  {
   "cell_type": "code",
   "execution_count": 3,
   "metadata": {},
   "outputs": [
    {
     "name": "stdout",
     "output_type": "stream",
     "text": [
      "['Id,SepalLengthCm,SepalWidthCm,PetalLengthCm,PetalWidthCm,Species\\n', '1,5.1,3.5,1.4,0.2,Iris-setosa\\n', '2,4.9,3.0,1.4,0.2,Iris-setosa\\n', '3,4.7,3.2,1.3,0.2,Iris-setosa\\n', '4,4.6,3.1,1.5,0.2,Iris-setosa\\n', '5,5.0,3.6,1.4,0.2,Iris-setosa\\n', '6,5.4,3.9,1.7,0.4,Iris-setosa\\n', '7,4.6,3.4,1.4,0.3,Iris-setosa\\n', '8,5.0,3.4,1.5,0.2,Iris-setosa\\n', '9,4.4,2.9,1.4,0.2,Iris-setosa\\n', '10,4.9,3.1,1.5,0.1,Iris-setosa\\n', '11,5.4,3.7,1.5,0.2,Iris-setosa\\n', '12,4.8,3.4,1.6,0.2,Iris-setosa\\n', '13,4.8,3.0,1.4,0.1,Iris-setosa\\n', '14,4.3,3.0,1.1,0.1,Iris-setosa\\n', '15,5.8,4.0,1.2,0.2,Iris-setosa\\n', '16,5.7,4.4,1.5,0.4,Iris-setosa\\n', '17,5.4,3.9,1.3,0.4,Iris-setosa\\n', '18,5.1,3.5,1.4,0.3,Iris-setosa\\n', '19,5.7,3.8,1.7,0.3,Iris-setosa\\n', '20,5.1,3.8,1.5,0.3,Iris-setosa\\n', '21,5.4,3.4,1.7,0.2,Iris-setosa\\n', '22,5.1,3.7,1.5,0.4,Iris-setosa\\n', '23,4.6,3.6,1.0,0.2,Iris-setosa\\n', '24,5.1,3.3,1.7,0.5,Iris-setosa\\n', '25,4.8,3.4,1.9,0.2,Iris-setosa\\n', '26,5.0,3.0,1.6,0.2,Iris-setosa\\n', '27,5.0,3.4,1.6,0.4,Iris-setosa\\n', '28,5.2,3.5,1.5,0.2,Iris-setosa\\n', '29,5.2,3.4,1.4,0.2,Iris-setosa\\n', '30,4.7,3.2,1.6,0.2,Iris-setosa\\n', '31,4.8,3.1,1.6,0.2,Iris-setosa\\n', '32,5.4,3.4,1.5,0.4,Iris-setosa\\n', '33,5.2,4.1,1.5,0.1,Iris-setosa\\n', '34,5.5,4.2,1.4,0.2,Iris-setosa\\n', '35,4.9,3.1,1.5,0.1,Iris-setosa\\n', '36,5.0,3.2,1.2,0.2,Iris-setosa\\n', '37,5.5,3.5,1.3,0.2,Iris-setosa\\n', '38,4.9,3.1,1.5,0.1,Iris-setosa\\n', '39,4.4,3.0,1.3,0.2,Iris-setosa\\n', '40,5.1,3.4,1.5,0.2,Iris-setosa\\n', '41,5.0,3.5,1.3,0.3,Iris-setosa\\n', '42,4.5,2.3,1.3,0.3,Iris-setosa\\n', '43,4.4,3.2,1.3,0.2,Iris-setosa\\n', '44,5.0,3.5,1.6,0.6,Iris-setosa\\n', '45,5.1,3.8,1.9,0.4,Iris-setosa\\n', '46,4.8,3.0,1.4,0.3,Iris-setosa\\n', '47,5.1,3.8,1.6,0.2,Iris-setosa\\n', '48,4.6,3.2,1.4,0.2,Iris-setosa\\n', '49,5.3,3.7,1.5,0.2,Iris-setosa\\n', '50,5.0,3.3,1.4,0.2,Iris-setosa\\n', '51,7.0,3.2,4.7,1.4,Iris-versicolor\\n', '52,6.4,3.2,4.5,1.5,Iris-versicolor\\n', '53,6.9,3.1,4.9,1.5,Iris-versicolor\\n', '54,5.5,2.3,4.0,1.3,Iris-versicolor\\n', '55,6.5,2.8,4.6,1.5,Iris-versicolor\\n', '56,5.7,2.8,4.5,1.3,Iris-versicolor\\n', '57,6.3,3.3,4.7,1.6,Iris-versicolor\\n', '58,4.9,2.4,3.3,1.0,Iris-versicolor\\n', '59,6.6,2.9,4.6,1.3,Iris-versicolor\\n', '60,5.2,2.7,3.9,1.4,Iris-versicolor\\n', '61,5.0,2.0,3.5,1.0,Iris-versicolor\\n', '62,5.9,3.0,4.2,1.5,Iris-versicolor\\n', '63,6.0,2.2,4.0,1.0,Iris-versicolor\\n', '64,6.1,2.9,4.7,1.4,Iris-versicolor\\n', '65,5.6,2.9,3.6,1.3,Iris-versicolor\\n', '66,6.7,3.1,4.4,1.4,Iris-versicolor\\n', '67,5.6,3.0,4.5,1.5,Iris-versicolor\\n', '68,5.8,2.7,4.1,1.0,Iris-versicolor\\n', '69,6.2,2.2,4.5,1.5,Iris-versicolor\\n', '70,5.6,2.5,3.9,1.1,Iris-versicolor\\n', '71,5.9,3.2,4.8,1.8,Iris-versicolor\\n', '72,6.1,2.8,4.0,1.3,Iris-versicolor\\n', '73,6.3,2.5,4.9,1.5,Iris-versicolor\\n', '74,6.1,2.8,4.7,1.2,Iris-versicolor\\n', '75,6.4,2.9,4.3,1.3,Iris-versicolor\\n', '76,6.6,3.0,4.4,1.4,Iris-versicolor\\n', '77,6.8,2.8,4.8,1.4,Iris-versicolor\\n', '78,6.7,3.0,5.0,1.7,Iris-versicolor\\n', '79,6.0,2.9,4.5,1.5,Iris-versicolor\\n', '80,5.7,2.6,3.5,1.0,Iris-versicolor\\n', '81,5.5,2.4,3.8,1.1,Iris-versicolor\\n', '82,5.5,2.4,3.7,1.0,Iris-versicolor\\n', '83,5.8,2.7,3.9,1.2,Iris-versicolor\\n', '84,6.0,2.7,5.1,1.6,Iris-versicolor\\n', '85,5.4,3.0,4.5,1.5,Iris-versicolor\\n', '86,6.0,3.4,4.5,1.6,Iris-versicolor\\n', '87,6.7,3.1,4.7,1.5,Iris-versicolor\\n', '88,6.3,2.3,4.4,1.3,Iris-versicolor\\n', '89,5.6,3.0,4.1,1.3,Iris-versicolor\\n', '90,5.5,2.5,4.0,1.3,Iris-versicolor\\n', '91,5.5,2.6,4.4,1.2,Iris-versicolor\\n', '92,6.1,3.0,4.6,1.4,Iris-versicolor\\n', '93,5.8,2.6,4.0,1.2,Iris-versicolor\\n', '94,5.0,2.3,3.3,1.0,Iris-versicolor\\n', '95,5.6,2.7,4.2,1.3,Iris-versicolor\\n', '96,5.7,3.0,4.2,1.2,Iris-versicolor\\n', '97,5.7,2.9,4.2,1.3,Iris-versicolor\\n', '98,6.2,2.9,4.3,1.3,Iris-versicolor\\n', '99,5.1,2.5,3.0,1.1,Iris-versicolor\\n', '100,5.7,2.8,4.1,1.3,Iris-versicolor\\n', '101,6.3,3.3,6.0,2.5,Iris-virginica\\n', '102,5.8,2.7,5.1,1.9,Iris-virginica\\n', '103,7.1,3.0,5.9,2.1,Iris-virginica\\n', '104,6.3,2.9,5.6,1.8,Iris-virginica\\n', '105,6.5,3.0,5.8,2.2,Iris-virginica\\n', '106,7.6,3.0,6.6,2.1,Iris-virginica\\n', '107,4.9,2.5,4.5,1.7,Iris-virginica\\n', '108,7.3,2.9,6.3,1.8,Iris-virginica\\n', '109,6.7,2.5,5.8,1.8,Iris-virginica\\n', '110,7.2,3.6,6.1,2.5,Iris-virginica\\n', '111,6.5,3.2,5.1,2.0,Iris-virginica\\n', '112,6.4,2.7,5.3,1.9,Iris-virginica\\n', '113,6.8,3.0,5.5,2.1,Iris-virginica\\n', '114,5.7,2.5,5.0,2.0,Iris-virginica\\n', '115,5.8,2.8,5.1,2.4,Iris-virginica\\n', '116,6.4,3.2,5.3,2.3,Iris-virginica\\n', '117,6.5,3.0,5.5,1.8,Iris-virginica\\n', '118,7.7,3.8,6.7,2.2,Iris-virginica\\n', '119,7.7,2.6,6.9,2.3,Iris-virginica\\n', '120,6.0,2.2,5.0,1.5,Iris-virginica\\n', '121,6.9,3.2,5.7,2.3,Iris-virginica\\n', '122,5.6,2.8,4.9,2.0,Iris-virginica\\n', '123,7.7,2.8,6.7,2.0,Iris-virginica\\n', '124,6.3,2.7,4.9,1.8,Iris-virginica\\n', '125,6.7,3.3,5.7,2.1,Iris-virginica\\n', '126,7.2,3.2,6.0,1.8,Iris-virginica\\n', '127,6.2,2.8,4.8,1.8,Iris-virginica\\n', '128,6.1,3.0,4.9,1.8,Iris-virginica\\n', '129,6.4,2.8,5.6,2.1,Iris-virginica\\n', '130,7.2,3.0,5.8,1.6,Iris-virginica\\n', '131,7.4,2.8,6.1,1.9,Iris-virginica\\n', '132,7.9,3.8,6.4,2.0,Iris-virginica\\n', '133,6.4,2.8,5.6,2.2,Iris-virginica\\n', '134,6.3,2.8,5.1,1.5,Iris-virginica\\n', '135,6.1,2.6,5.6,1.4,Iris-virginica\\n', '136,7.7,3.0,6.1,2.3,Iris-virginica\\n', '137,6.3,3.4,5.6,2.4,Iris-virginica\\n', '138,6.4,3.1,5.5,1.8,Iris-virginica\\n', '139,6.0,3.0,4.8,1.8,Iris-virginica\\n', '140,6.9,3.1,5.4,2.1,Iris-virginica\\n', '141,6.7,3.1,5.6,2.4,Iris-virginica\\n', '142,6.9,3.1,5.1,2.3,Iris-virginica\\n', '143,5.8,2.7,5.1,1.9,Iris-virginica\\n', '144,6.8,3.2,5.9,2.3,Iris-virginica\\n', '145,6.7,3.3,5.7,2.5,Iris-virginica\\n', '146,6.7,3.0,5.2,2.3,Iris-virginica\\n', '147,6.3,2.5,5.0,1.9,Iris-virginica\\n', '148,6.5,3.0,5.2,2.0,Iris-virginica\\n', '149,6.2,3.4,5.4,2.3,Iris-virginica\\n', '150,5.9,3.0,5.1,1.8,Iris-virginica\\n']\n"
     ]
    }
   ],
   "source": [
    "print(file_lines)"
   ]
  },
  {
   "cell_type": "code",
   "execution_count": 4,
   "metadata": {},
   "outputs": [
    {
     "name": "stdout",
     "output_type": "stream",
     "text": [
      "<class 'list'>\n"
     ]
    }
   ],
   "source": [
    "print(type(file_lines))"
   ]
  },
  {
   "cell_type": "code",
   "execution_count": 5,
   "metadata": {},
   "outputs": [
    {
     "data": {
      "text/plain": [
       "'150,5.9,3.0,5.1,1.8,Iris-virginica\\n'"
      ]
     },
     "execution_count": 5,
     "metadata": {},
     "output_type": "execute_result"
    }
   ],
   "source": [
    "# get last line of file \n",
    "file_lines[-1]"
   ]
  },
  {
   "cell_type": "markdown",
   "metadata": {},
   "source": [
    "# Read in a file- version 2 "
   ]
  },
  {
   "cell_type": "code",
   "execution_count": 7,
   "metadata": {},
   "outputs": [],
   "source": [
    "import csv  # imports a package called csv "
   ]
  },
  {
   "cell_type": "code",
   "execution_count": 8,
   "metadata": {},
   "outputs": [],
   "source": [
    "file_lines = []\n",
    "\n",
    "with open(file_name, \"r\") as input_file: \n",
    "    \n",
    "    # makes an object that will help us read the file\n",
    "    # delimiter specifies how the file is made (some files are tab delimited)\n",
    "    input_file_reader = csv.reader(input_file, delimiter=\",\")  \n",
    "    \n",
    "    for line in input_file_reader:  # now iterate over the object\n",
    "        file_lines.append(line)  "
   ]
  },
  {
   "cell_type": "code",
   "execution_count": 9,
   "metadata": {},
   "outputs": [
    {
     "name": "stdout",
     "output_type": "stream",
     "text": [
      "[['Id', 'SepalLengthCm', 'SepalWidthCm', 'PetalLengthCm', 'PetalWidthCm', 'Species'], ['1', '5.1', '3.5', '1.4', '0.2', 'Iris-setosa'], ['2', '4.9', '3.0', '1.4', '0.2', 'Iris-setosa'], ['3', '4.7', '3.2', '1.3', '0.2', 'Iris-setosa'], ['4', '4.6', '3.1', '1.5', '0.2', 'Iris-setosa'], ['5', '5.0', '3.6', '1.4', '0.2', 'Iris-setosa'], ['6', '5.4', '3.9', '1.7', '0.4', 'Iris-setosa'], ['7', '4.6', '3.4', '1.4', '0.3', 'Iris-setosa'], ['8', '5.0', '3.4', '1.5', '0.2', 'Iris-setosa'], ['9', '4.4', '2.9', '1.4', '0.2', 'Iris-setosa'], ['10', '4.9', '3.1', '1.5', '0.1', 'Iris-setosa'], ['11', '5.4', '3.7', '1.5', '0.2', 'Iris-setosa'], ['12', '4.8', '3.4', '1.6', '0.2', 'Iris-setosa'], ['13', '4.8', '3.0', '1.4', '0.1', 'Iris-setosa'], ['14', '4.3', '3.0', '1.1', '0.1', 'Iris-setosa'], ['15', '5.8', '4.0', '1.2', '0.2', 'Iris-setosa'], ['16', '5.7', '4.4', '1.5', '0.4', 'Iris-setosa'], ['17', '5.4', '3.9', '1.3', '0.4', 'Iris-setosa'], ['18', '5.1', '3.5', '1.4', '0.3', 'Iris-setosa'], ['19', '5.7', '3.8', '1.7', '0.3', 'Iris-setosa'], ['20', '5.1', '3.8', '1.5', '0.3', 'Iris-setosa'], ['21', '5.4', '3.4', '1.7', '0.2', 'Iris-setosa'], ['22', '5.1', '3.7', '1.5', '0.4', 'Iris-setosa'], ['23', '4.6', '3.6', '1.0', '0.2', 'Iris-setosa'], ['24', '5.1', '3.3', '1.7', '0.5', 'Iris-setosa'], ['25', '4.8', '3.4', '1.9', '0.2', 'Iris-setosa'], ['26', '5.0', '3.0', '1.6', '0.2', 'Iris-setosa'], ['27', '5.0', '3.4', '1.6', '0.4', 'Iris-setosa'], ['28', '5.2', '3.5', '1.5', '0.2', 'Iris-setosa'], ['29', '5.2', '3.4', '1.4', '0.2', 'Iris-setosa'], ['30', '4.7', '3.2', '1.6', '0.2', 'Iris-setosa'], ['31', '4.8', '3.1', '1.6', '0.2', 'Iris-setosa'], ['32', '5.4', '3.4', '1.5', '0.4', 'Iris-setosa'], ['33', '5.2', '4.1', '1.5', '0.1', 'Iris-setosa'], ['34', '5.5', '4.2', '1.4', '0.2', 'Iris-setosa'], ['35', '4.9', '3.1', '1.5', '0.1', 'Iris-setosa'], ['36', '5.0', '3.2', '1.2', '0.2', 'Iris-setosa'], ['37', '5.5', '3.5', '1.3', '0.2', 'Iris-setosa'], ['38', '4.9', '3.1', '1.5', '0.1', 'Iris-setosa'], ['39', '4.4', '3.0', '1.3', '0.2', 'Iris-setosa'], ['40', '5.1', '3.4', '1.5', '0.2', 'Iris-setosa'], ['41', '5.0', '3.5', '1.3', '0.3', 'Iris-setosa'], ['42', '4.5', '2.3', '1.3', '0.3', 'Iris-setosa'], ['43', '4.4', '3.2', '1.3', '0.2', 'Iris-setosa'], ['44', '5.0', '3.5', '1.6', '0.6', 'Iris-setosa'], ['45', '5.1', '3.8', '1.9', '0.4', 'Iris-setosa'], ['46', '4.8', '3.0', '1.4', '0.3', 'Iris-setosa'], ['47', '5.1', '3.8', '1.6', '0.2', 'Iris-setosa'], ['48', '4.6', '3.2', '1.4', '0.2', 'Iris-setosa'], ['49', '5.3', '3.7', '1.5', '0.2', 'Iris-setosa'], ['50', '5.0', '3.3', '1.4', '0.2', 'Iris-setosa'], ['51', '7.0', '3.2', '4.7', '1.4', 'Iris-versicolor'], ['52', '6.4', '3.2', '4.5', '1.5', 'Iris-versicolor'], ['53', '6.9', '3.1', '4.9', '1.5', 'Iris-versicolor'], ['54', '5.5', '2.3', '4.0', '1.3', 'Iris-versicolor'], ['55', '6.5', '2.8', '4.6', '1.5', 'Iris-versicolor'], ['56', '5.7', '2.8', '4.5', '1.3', 'Iris-versicolor'], ['57', '6.3', '3.3', '4.7', '1.6', 'Iris-versicolor'], ['58', '4.9', '2.4', '3.3', '1.0', 'Iris-versicolor'], ['59', '6.6', '2.9', '4.6', '1.3', 'Iris-versicolor'], ['60', '5.2', '2.7', '3.9', '1.4', 'Iris-versicolor'], ['61', '5.0', '2.0', '3.5', '1.0', 'Iris-versicolor'], ['62', '5.9', '3.0', '4.2', '1.5', 'Iris-versicolor'], ['63', '6.0', '2.2', '4.0', '1.0', 'Iris-versicolor'], ['64', '6.1', '2.9', '4.7', '1.4', 'Iris-versicolor'], ['65', '5.6', '2.9', '3.6', '1.3', 'Iris-versicolor'], ['66', '6.7', '3.1', '4.4', '1.4', 'Iris-versicolor'], ['67', '5.6', '3.0', '4.5', '1.5', 'Iris-versicolor'], ['68', '5.8', '2.7', '4.1', '1.0', 'Iris-versicolor'], ['69', '6.2', '2.2', '4.5', '1.5', 'Iris-versicolor'], ['70', '5.6', '2.5', '3.9', '1.1', 'Iris-versicolor'], ['71', '5.9', '3.2', '4.8', '1.8', 'Iris-versicolor'], ['72', '6.1', '2.8', '4.0', '1.3', 'Iris-versicolor'], ['73', '6.3', '2.5', '4.9', '1.5', 'Iris-versicolor'], ['74', '6.1', '2.8', '4.7', '1.2', 'Iris-versicolor'], ['75', '6.4', '2.9', '4.3', '1.3', 'Iris-versicolor'], ['76', '6.6', '3.0', '4.4', '1.4', 'Iris-versicolor'], ['77', '6.8', '2.8', '4.8', '1.4', 'Iris-versicolor'], ['78', '6.7', '3.0', '5.0', '1.7', 'Iris-versicolor'], ['79', '6.0', '2.9', '4.5', '1.5', 'Iris-versicolor'], ['80', '5.7', '2.6', '3.5', '1.0', 'Iris-versicolor'], ['81', '5.5', '2.4', '3.8', '1.1', 'Iris-versicolor'], ['82', '5.5', '2.4', '3.7', '1.0', 'Iris-versicolor'], ['83', '5.8', '2.7', '3.9', '1.2', 'Iris-versicolor'], ['84', '6.0', '2.7', '5.1', '1.6', 'Iris-versicolor'], ['85', '5.4', '3.0', '4.5', '1.5', 'Iris-versicolor'], ['86', '6.0', '3.4', '4.5', '1.6', 'Iris-versicolor'], ['87', '6.7', '3.1', '4.7', '1.5', 'Iris-versicolor'], ['88', '6.3', '2.3', '4.4', '1.3', 'Iris-versicolor'], ['89', '5.6', '3.0', '4.1', '1.3', 'Iris-versicolor'], ['90', '5.5', '2.5', '4.0', '1.3', 'Iris-versicolor'], ['91', '5.5', '2.6', '4.4', '1.2', 'Iris-versicolor'], ['92', '6.1', '3.0', '4.6', '1.4', 'Iris-versicolor'], ['93', '5.8', '2.6', '4.0', '1.2', 'Iris-versicolor'], ['94', '5.0', '2.3', '3.3', '1.0', 'Iris-versicolor'], ['95', '5.6', '2.7', '4.2', '1.3', 'Iris-versicolor'], ['96', '5.7', '3.0', '4.2', '1.2', 'Iris-versicolor'], ['97', '5.7', '2.9', '4.2', '1.3', 'Iris-versicolor'], ['98', '6.2', '2.9', '4.3', '1.3', 'Iris-versicolor'], ['99', '5.1', '2.5', '3.0', '1.1', 'Iris-versicolor'], ['100', '5.7', '2.8', '4.1', '1.3', 'Iris-versicolor'], ['101', '6.3', '3.3', '6.0', '2.5', 'Iris-virginica'], ['102', '5.8', '2.7', '5.1', '1.9', 'Iris-virginica'], ['103', '7.1', '3.0', '5.9', '2.1', 'Iris-virginica'], ['104', '6.3', '2.9', '5.6', '1.8', 'Iris-virginica'], ['105', '6.5', '3.0', '5.8', '2.2', 'Iris-virginica'], ['106', '7.6', '3.0', '6.6', '2.1', 'Iris-virginica'], ['107', '4.9', '2.5', '4.5', '1.7', 'Iris-virginica'], ['108', '7.3', '2.9', '6.3', '1.8', 'Iris-virginica'], ['109', '6.7', '2.5', '5.8', '1.8', 'Iris-virginica'], ['110', '7.2', '3.6', '6.1', '2.5', 'Iris-virginica'], ['111', '6.5', '3.2', '5.1', '2.0', 'Iris-virginica'], ['112', '6.4', '2.7', '5.3', '1.9', 'Iris-virginica'], ['113', '6.8', '3.0', '5.5', '2.1', 'Iris-virginica'], ['114', '5.7', '2.5', '5.0', '2.0', 'Iris-virginica'], ['115', '5.8', '2.8', '5.1', '2.4', 'Iris-virginica'], ['116', '6.4', '3.2', '5.3', '2.3', 'Iris-virginica'], ['117', '6.5', '3.0', '5.5', '1.8', 'Iris-virginica'], ['118', '7.7', '3.8', '6.7', '2.2', 'Iris-virginica'], ['119', '7.7', '2.6', '6.9', '2.3', 'Iris-virginica'], ['120', '6.0', '2.2', '5.0', '1.5', 'Iris-virginica'], ['121', '6.9', '3.2', '5.7', '2.3', 'Iris-virginica'], ['122', '5.6', '2.8', '4.9', '2.0', 'Iris-virginica'], ['123', '7.7', '2.8', '6.7', '2.0', 'Iris-virginica'], ['124', '6.3', '2.7', '4.9', '1.8', 'Iris-virginica'], ['125', '6.7', '3.3', '5.7', '2.1', 'Iris-virginica'], ['126', '7.2', '3.2', '6.0', '1.8', 'Iris-virginica'], ['127', '6.2', '2.8', '4.8', '1.8', 'Iris-virginica'], ['128', '6.1', '3.0', '4.9', '1.8', 'Iris-virginica'], ['129', '6.4', '2.8', '5.6', '2.1', 'Iris-virginica'], ['130', '7.2', '3.0', '5.8', '1.6', 'Iris-virginica'], ['131', '7.4', '2.8', '6.1', '1.9', 'Iris-virginica'], ['132', '7.9', '3.8', '6.4', '2.0', 'Iris-virginica'], ['133', '6.4', '2.8', '5.6', '2.2', 'Iris-virginica'], ['134', '6.3', '2.8', '5.1', '1.5', 'Iris-virginica'], ['135', '6.1', '2.6', '5.6', '1.4', 'Iris-virginica'], ['136', '7.7', '3.0', '6.1', '2.3', 'Iris-virginica'], ['137', '6.3', '3.4', '5.6', '2.4', 'Iris-virginica'], ['138', '6.4', '3.1', '5.5', '1.8', 'Iris-virginica'], ['139', '6.0', '3.0', '4.8', '1.8', 'Iris-virginica'], ['140', '6.9', '3.1', '5.4', '2.1', 'Iris-virginica'], ['141', '6.7', '3.1', '5.6', '2.4', 'Iris-virginica'], ['142', '6.9', '3.1', '5.1', '2.3', 'Iris-virginica'], ['143', '5.8', '2.7', '5.1', '1.9', 'Iris-virginica'], ['144', '6.8', '3.2', '5.9', '2.3', 'Iris-virginica'], ['145', '6.7', '3.3', '5.7', '2.5', 'Iris-virginica'], ['146', '6.7', '3.0', '5.2', '2.3', 'Iris-virginica'], ['147', '6.3', '2.5', '5.0', '1.9', 'Iris-virginica'], ['148', '6.5', '3.0', '5.2', '2.0', 'Iris-virginica'], ['149', '6.2', '3.4', '5.4', '2.3', 'Iris-virginica'], ['150', '5.9', '3.0', '5.1', '1.8', 'Iris-virginica']]\n"
     ]
    }
   ],
   "source": [
    "print(file_lines)"
   ]
  },
  {
   "cell_type": "code",
   "execution_count": 10,
   "metadata": {},
   "outputs": [
    {
     "name": "stdout",
     "output_type": "stream",
     "text": [
      "<class 'list'>\n"
     ]
    }
   ],
   "source": [
    "print(type(file_lines))"
   ]
  },
  {
   "cell_type": "code",
   "execution_count": 13,
   "metadata": {},
   "outputs": [
    {
     "data": {
      "text/plain": [
       "'3.0'"
      ]
     },
     "execution_count": 13,
     "metadata": {},
     "output_type": "execute_result"
    }
   ],
   "source": [
    "# print third column in the last line \n",
    "file_lines[-1][2]"
   ]
  },
  {
   "cell_type": "markdown",
   "metadata": {},
   "source": [
    "# Read in a file- Version 3 "
   ]
  },
  {
   "cell_type": "code",
   "execution_count": 6,
   "metadata": {},
   "outputs": [],
   "source": [
    "# fanciest package for reading in files\n",
    "import pandas as pd   # imports pandas and to reference it we can call it 'pd' for short"
   ]
  },
  {
   "cell_type": "code",
   "execution_count": 7,
   "metadata": {},
   "outputs": [],
   "source": [
    "df = pd.read_csv(\"Iris.csv\", delimiter=\",\")  # uses the pandas csv reader package "
   ]
  },
  {
   "cell_type": "code",
   "execution_count": 13,
   "metadata": {},
   "outputs": [
    {
     "data": {
      "text/html": [
       "<div>\n",
       "<style scoped>\n",
       "    .dataframe tbody tr th:only-of-type {\n",
       "        vertical-align: middle;\n",
       "    }\n",
       "\n",
       "    .dataframe tbody tr th {\n",
       "        vertical-align: top;\n",
       "    }\n",
       "\n",
       "    .dataframe thead th {\n",
       "        text-align: right;\n",
       "    }\n",
       "</style>\n",
       "<table border=\"1\" class=\"dataframe\">\n",
       "  <thead>\n",
       "    <tr style=\"text-align: right;\">\n",
       "      <th></th>\n",
       "      <th>Id</th>\n",
       "      <th>SepalLengthCm</th>\n",
       "      <th>SepalWidthCm</th>\n",
       "      <th>PetalLengthCm</th>\n",
       "      <th>PetalWidthCm</th>\n",
       "      <th>Species</th>\n",
       "    </tr>\n",
       "  </thead>\n",
       "  <tbody>\n",
       "    <tr>\n",
       "      <th>0</th>\n",
       "      <td>1</td>\n",
       "      <td>5.1</td>\n",
       "      <td>3.5</td>\n",
       "      <td>1.4</td>\n",
       "      <td>0.2</td>\n",
       "      <td>Iris-setosa</td>\n",
       "    </tr>\n",
       "    <tr>\n",
       "      <th>1</th>\n",
       "      <td>2</td>\n",
       "      <td>4.9</td>\n",
       "      <td>3.0</td>\n",
       "      <td>1.4</td>\n",
       "      <td>0.2</td>\n",
       "      <td>Iris-setosa</td>\n",
       "    </tr>\n",
       "    <tr>\n",
       "      <th>2</th>\n",
       "      <td>3</td>\n",
       "      <td>4.7</td>\n",
       "      <td>3.2</td>\n",
       "      <td>1.3</td>\n",
       "      <td>0.2</td>\n",
       "      <td>Iris-setosa</td>\n",
       "    </tr>\n",
       "    <tr>\n",
       "      <th>3</th>\n",
       "      <td>4</td>\n",
       "      <td>4.6</td>\n",
       "      <td>3.1</td>\n",
       "      <td>1.5</td>\n",
       "      <td>0.2</td>\n",
       "      <td>Iris-setosa</td>\n",
       "    </tr>\n",
       "    <tr>\n",
       "      <th>4</th>\n",
       "      <td>5</td>\n",
       "      <td>5.0</td>\n",
       "      <td>3.6</td>\n",
       "      <td>1.4</td>\n",
       "      <td>0.2</td>\n",
       "      <td>Iris-setosa</td>\n",
       "    </tr>\n",
       "    <tr>\n",
       "      <th>...</th>\n",
       "      <td>...</td>\n",
       "      <td>...</td>\n",
       "      <td>...</td>\n",
       "      <td>...</td>\n",
       "      <td>...</td>\n",
       "      <td>...</td>\n",
       "    </tr>\n",
       "    <tr>\n",
       "      <th>145</th>\n",
       "      <td>146</td>\n",
       "      <td>6.7</td>\n",
       "      <td>3.0</td>\n",
       "      <td>5.2</td>\n",
       "      <td>2.3</td>\n",
       "      <td>Iris-virginica</td>\n",
       "    </tr>\n",
       "    <tr>\n",
       "      <th>146</th>\n",
       "      <td>147</td>\n",
       "      <td>6.3</td>\n",
       "      <td>2.5</td>\n",
       "      <td>5.0</td>\n",
       "      <td>1.9</td>\n",
       "      <td>Iris-virginica</td>\n",
       "    </tr>\n",
       "    <tr>\n",
       "      <th>147</th>\n",
       "      <td>148</td>\n",
       "      <td>6.5</td>\n",
       "      <td>3.0</td>\n",
       "      <td>5.2</td>\n",
       "      <td>2.0</td>\n",
       "      <td>Iris-virginica</td>\n",
       "    </tr>\n",
       "    <tr>\n",
       "      <th>148</th>\n",
       "      <td>149</td>\n",
       "      <td>6.2</td>\n",
       "      <td>3.4</td>\n",
       "      <td>5.4</td>\n",
       "      <td>2.3</td>\n",
       "      <td>Iris-virginica</td>\n",
       "    </tr>\n",
       "    <tr>\n",
       "      <th>149</th>\n",
       "      <td>150</td>\n",
       "      <td>5.9</td>\n",
       "      <td>3.0</td>\n",
       "      <td>5.1</td>\n",
       "      <td>1.8</td>\n",
       "      <td>Iris-virginica</td>\n",
       "    </tr>\n",
       "  </tbody>\n",
       "</table>\n",
       "<p>150 rows × 6 columns</p>\n",
       "</div>"
      ],
      "text/plain": [
       "      Id  SepalLengthCm  SepalWidthCm  PetalLengthCm  PetalWidthCm  \\\n",
       "0      1            5.1           3.5            1.4           0.2   \n",
       "1      2            4.9           3.0            1.4           0.2   \n",
       "2      3            4.7           3.2            1.3           0.2   \n",
       "3      4            4.6           3.1            1.5           0.2   \n",
       "4      5            5.0           3.6            1.4           0.2   \n",
       "..   ...            ...           ...            ...           ...   \n",
       "145  146            6.7           3.0            5.2           2.3   \n",
       "146  147            6.3           2.5            5.0           1.9   \n",
       "147  148            6.5           3.0            5.2           2.0   \n",
       "148  149            6.2           3.4            5.4           2.3   \n",
       "149  150            5.9           3.0            5.1           1.8   \n",
       "\n",
       "            Species  \n",
       "0       Iris-setosa  \n",
       "1       Iris-setosa  \n",
       "2       Iris-setosa  \n",
       "3       Iris-setosa  \n",
       "4       Iris-setosa  \n",
       "..              ...  \n",
       "145  Iris-virginica  \n",
       "146  Iris-virginica  \n",
       "147  Iris-virginica  \n",
       "148  Iris-virginica  \n",
       "149  Iris-virginica  \n",
       "\n",
       "[150 rows x 6 columns]"
      ]
     },
     "execution_count": 13,
     "metadata": {},
     "output_type": "execute_result"
    }
   ],
   "source": [
    "df"
   ]
  },
  {
   "cell_type": "code",
   "execution_count": 19,
   "metadata": {},
   "outputs": [
    {
     "data": {
      "text/plain": [
       "'Iris-setosa'"
      ]
     },
     "execution_count": 19,
     "metadata": {},
     "output_type": "execute_result"
    }
   ],
   "source": [
    "# get the 8th value in the \"Species\" column \n",
    "df[\"Species\"]"
   ]
  },
  {
   "cell_type": "code",
   "execution_count": 20,
   "metadata": {},
   "outputs": [],
   "source": [
    "import seaborn as sns"
   ]
  },
  {
   "cell_type": "code",
   "execution_count": 23,
   "metadata": {},
   "outputs": [
    {
     "data": {
      "text/plain": [
       "<matplotlib.axes._subplots.AxesSubplot at 0x1a16dc8fd0>"
      ]
     },
     "execution_count": 23,
     "metadata": {},
     "output_type": "execute_result"
    },
    {
     "data": {
      "image/png": "[encoded data removed]",
      "text/plain": [
       "<Figure size 432x288 with 1 Axes>"
      ]
     },
     "metadata": {
      "needs_background": "light"
     },
     "output_type": "display_data"
    }
   ],
   "source": [
    "sns.scatterplot(data=df, x=\"SepalLengthCm\", y=\"PetalLengthCm\", hue=\"Species\")"
   ]
  },
  {
   "cell_type": "code",
   "execution_count": null,
   "metadata": {},
   "outputs": [],
   "source": []
  }
 ],
 "metadata": {
  "kernelspec": {
   "display_name": "Python 3",
   "language": "python",
   "name": "python3"
  },
  "language_info": {
   "codemirror_mode": {
    "name": "ipython",
    "version": 3
   },
   "file_extension": ".py",
   "mimetype": "text/x-python",
   "name": "python",
   "nbconvert_exporter": "python",
   "pygments_lexer": "ipython3",
   "version": "3.7.7"
  }
 },
 "nbformat": 4,
 "nbformat_minor": 4
}
